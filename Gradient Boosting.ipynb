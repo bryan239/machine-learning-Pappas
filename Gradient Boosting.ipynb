{
 "cells": [
  {
   "cell_type": "code",
   "execution_count": 1,
   "id": "af9a9639",
   "metadata": {},
   "outputs": [],
   "source": [
    "import pandas as pd\n",
    "import numpy as np\n",
    "import matplotlib.pyplot as plt\n",
    "import seaborn as sns\n",
    "import math\n",
    "import statistics\n",
    "import scipy.stats\n",
    "from sklearn.model_selection import train_test_split"
   ]
  },
  {
   "cell_type": "code",
   "execution_count": 2,
   "id": "2df97ce5",
   "metadata": {},
   "outputs": [],
   "source": [
    "# φόρτωση δεδομένων\n",
    "ded=pd.read_excel('CogTEL_new.xlsx')"
   ]
  },
  {
   "cell_type": "code",
   "execution_count": 3,
   "id": "dc05a02e",
   "metadata": {},
   "outputs": [],
   "source": [
    "# μετατροπή αλφαριθμητικών σε float και παράλληλα μετατροπή \"-\" σε NaN\n",
    "ded['education']=pd.to_numeric(ded['education'],errors='coerce')\n",
    "ded['GDS_6']=pd.to_numeric(ded['GDS_6'],errors='coerce')\n",
    "ded['GDS_8']=pd.to_numeric(ded['GDS_8'],errors='coerce')\n",
    "ded['GDS_9']=pd.to_numeric(ded['GDS_9'],errors='coerce')\n",
    "ded['NPIJ32F']=pd.to_numeric(ded['NPIJ32F'],errors='coerce')"
   ]
  },
  {
   "cell_type": "code",
   "execution_count": 4,
   "id": "8e2803de",
   "metadata": {},
   "outputs": [],
   "source": [
    "# για να μπορώ να εξάγω τις συγκεκριμένες στήλες (αχρείαστο βήμα...)\n",
    "ded = ded.rename(columns={'Antidepressants ': 'Antidepressants' })\n",
    "ded = ded.rename(columns={'Concentration/attention' : 'Concentration_attention'})"
   ]
  },
  {
   "cell_type": "code",
   "execution_count": 5,
   "id": "e2b266aa",
   "metadata": {},
   "outputs": [],
   "source": [
    "# αφαίρεση στιγμιοτύπων με missing values\n",
    "ded=ded.dropna()"
   ]
  },
  {
   "cell_type": "code",
   "execution_count": 6,
   "id": "1329a2c2",
   "metadata": {},
   "outputs": [],
   "source": [
    "# αφαίρεση των παραδειγμάτων ηλικίας 50 και κάτω\n",
    "dedomena=ded[ded['Age']>49]"
   ]
  },
  {
   "cell_type": "code",
   "execution_count": 7,
   "id": "16b3030a",
   "metadata": {},
   "outputs": [
    {
     "data": {
      "text/plain": [
       "(504, 61)"
      ]
     },
     "execution_count": 7,
     "metadata": {},
     "output_type": "execute_result"
    }
   ],
   "source": [
    "dedomena.shape"
   ]
  },
  {
   "cell_type": "code",
   "execution_count": 8,
   "id": "d85e9717",
   "metadata": {},
   "outputs": [],
   "source": [
    "# ανάθεση του συνόλου των ανεξάρτητων μεταβλητών και της μεταβλητής στόχου σε Χ και Υ\n",
    "X=dedomena.drop('diagnosis',axis=1)\n",
    "Y=dedomena.diagnosis"
   ]
  },
  {
   "cell_type": "code",
   "execution_count": 9,
   "id": "35ce4d91",
   "metadata": {},
   "outputs": [
    {
     "name": "stdout",
     "output_type": "stream",
     "text": [
      "Requirement already satisfied: imblearn in c:\\users\\bill\\anaconda3\\lib\\site-packages (0.0)\n",
      "Requirement already satisfied: imbalanced-learn in c:\\users\\bill\\anaconda3\\lib\\site-packages (from imblearn) (0.9.1)\n",
      "Requirement already satisfied: scikit-learn>=1.1.0 in c:\\users\\bill\\anaconda3\\lib\\site-packages (from imbalanced-learn->imblearn) (1.1.2)\n",
      "Requirement already satisfied: numpy>=1.17.3 in c:\\users\\bill\\anaconda3\\lib\\site-packages (from imbalanced-learn->imblearn) (1.21.5)\n",
      "Requirement already satisfied: scipy>=1.3.2 in c:\\users\\bill\\anaconda3\\lib\\site-packages (from imbalanced-learn->imblearn) (1.7.3)\n",
      "Requirement already satisfied: joblib>=1.0.0 in c:\\users\\bill\\anaconda3\\lib\\site-packages (from imbalanced-learn->imblearn) (1.1.0)\n",
      "Requirement already satisfied: threadpoolctl>=2.0.0 in c:\\users\\bill\\anaconda3\\lib\\site-packages (from imbalanced-learn->imblearn) (2.2.0)\n",
      "Requirement already satisfied: imbalanced-learn in c:\\users\\bill\\anaconda3\\lib\\site-packages (0.9.1)\n",
      "Requirement already satisfied: threadpoolctl>=2.0.0 in c:\\users\\bill\\anaconda3\\lib\\site-packages (from imbalanced-learn) (2.2.0)\n",
      "Requirement already satisfied: joblib>=1.0.0 in c:\\users\\bill\\anaconda3\\lib\\site-packages (from imbalanced-learn) (1.1.0)\n",
      "Requirement already satisfied: numpy>=1.17.3 in c:\\users\\bill\\anaconda3\\lib\\site-packages (from imbalanced-learn) (1.21.5)\n",
      "Requirement already satisfied: scikit-learn>=1.1.0 in c:\\users\\bill\\anaconda3\\lib\\site-packages (from imbalanced-learn) (1.1.2)\n",
      "Requirement already satisfied: scipy>=1.3.2 in c:\\users\\bill\\anaconda3\\lib\\site-packages (from imbalanced-learn) (1.7.3)\n"
     ]
    }
   ],
   "source": [
    "!pip install imblearn\n",
    "!pip install imbalanced-learn"
   ]
  },
  {
   "cell_type": "code",
   "execution_count": 10,
   "id": "5036061a",
   "metadata": {},
   "outputs": [
    {
     "name": "stdout",
     "output_type": "stream",
     "text": [
      "Class=0, n=208 (25.000%)\n",
      "Class=2, n=208 (25.000%)\n",
      "Class=1, n=208 (25.000%)\n",
      "Class=3, n=208 (25.000%)\n"
     ]
    },
    {
     "data": {
      "image/png": "[encoded data removed]",
      "text/plain": [
       "<Figure size 432x288 with 1 Axes>"
      ]
     },
     "metadata": {
      "needs_background": "light"
     },
     "output_type": "display_data"
    }
   ],
   "source": [
    "# τεχνική υπερδειγματοληψίας SMOTE \n",
    "\n",
    "from collections import Counter\n",
    "from imblearn.over_sampling import SMOTE\n",
    "oversample = SMOTE(random_state=7)\n",
    "X, Y = oversample.fit_resample(X, Y)\n",
    "# summarize distribution\n",
    "counter = Counter(Y)\n",
    "for k,v in counter.items():\n",
    "    per = v / len(Y) * 100\n",
    "    print('Class=%d, n=%d (%.3f%%)' % (k, v, per))\n",
    "# plot the distribution\n",
    "plt.bar(counter.keys(), counter.values())\n",
    "plt.show()"
   ]
  },
  {
   "cell_type": "code",
   "execution_count": 11,
   "id": "3693a05d",
   "metadata": {},
   "outputs": [],
   "source": [
    "# διαχωρισμός δεδομένων σε train και test set (μέθοδος hold-out)\n",
    "X_train,X_test,Y_train,Y_test=train_test_split(X,Y,test_size=0.3,random_state=3)"
   ]
  },
  {
   "cell_type": "code",
   "execution_count": 12,
   "id": "bfb4f2b0",
   "metadata": {},
   "outputs": [
    {
     "name": "stdout",
     "output_type": "stream",
     "text": [
      "Classification Report\n",
      "              precision    recall  f1-score   support\n",
      "\n",
      "           0       0.90      0.81      0.85        69\n",
      "           1       0.75      0.70      0.72        69\n",
      "           2       0.93      0.85      0.89        66\n",
      "           3       0.69      0.96      0.80        46\n",
      "\n",
      "    accuracy                           0.82       250\n",
      "   macro avg       0.82      0.83      0.82       250\n",
      "weighted avg       0.83      0.82      0.82       250\n",
      "\n"
     ]
    }
   ],
   "source": [
    "from sklearn.ensemble import GradientBoostingClassifier\n",
    "from sklearn.metrics import classification_report\n",
    "gb_clf2 = GradientBoostingClassifier(random_state=0)\n",
    "gb_clf2.fit(X_train, Y_train)\n",
    "predictions = gb_clf2.predict(X_test)\n",
    "print(\"Classification Report\")\n",
    "print(classification_report(Y_test, predictions))"
   ]
  },
  {
   "cell_type": "code",
   "execution_count": 13,
   "id": "336090bb",
   "metadata": {},
   "outputs": [
    {
     "data": {
      "text/plain": [
       "array([0.85628743, 0.79640719, 0.81325301, 0.80120482, 0.86746988])"
      ]
     },
     "execution_count": 13,
     "metadata": {},
     "output_type": "execute_result"
    }
   ],
   "source": [
    "# Κάνουμε nested CV \n",
    "# αργεί πολύ...\n",
    "from sklearn.model_selection import GridSearchCV,cross_val_score,RepeatedKFold,KFold\n",
    "\n",
    "clf1=GradientBoostingClassifier(random_state=67)\n",
    "inner_cv = KFold(n_splits=3, shuffle=True, random_state=1)\n",
    "outer_cv = KFold(n_splits=5, shuffle=True, random_state=1)\n",
    "space=dict()\n",
    "space['learning_rate']=[0.1, 0.5, 0.7, 1]\n",
    "space['n_estimators']=[100, 200, 300, 400]\n",
    "search = GridSearchCV(clf1, space, scoring='recall_micro', n_jobs=-1, cv=inner_cv, refit=True)\n",
    "search.fit(X, Y)\n",
    "\n",
    "nested_scores=cross_val_score(search, X, Y, scoring='recall_micro',cv=outer_cv, n_jobs=-1)\n",
    "nested_scores"
   ]
  },
  {
   "cell_type": "code",
   "execution_count": 14,
   "id": "377a3de4",
   "metadata": {},
   "outputs": [
    {
     "data": {
      "text/plain": [
       "{'learning_rate': 0.7, 'n_estimators': 100}"
      ]
     },
     "execution_count": 14,
     "metadata": {},
     "output_type": "execute_result"
    }
   ],
   "source": [
    "search.best_params_"
   ]
  },
  {
   "cell_type": "code",
   "execution_count": 15,
   "id": "0e2eaf4d",
   "metadata": {},
   "outputs": [
    {
     "data": {
      "text/plain": [
       "0.8269244643243633"
      ]
     },
     "execution_count": 15,
     "metadata": {},
     "output_type": "execute_result"
    }
   ],
   "source": [
    "nested_scores.mean()"
   ]
  },
  {
   "cell_type": "markdown",
   "id": "f16f9572",
   "metadata": {},
   "source": [
    "# OVO και OVR (ή OVA)"
   ]
  },
  {
   "cell_type": "code",
   "execution_count": 16,
   "id": "8b3bcb96",
   "metadata": {},
   "outputs": [],
   "source": [
    "from sklearn.multiclass import OneVsRestClassifier\n",
    "from sklearn.multiclass import OneVsOneClassifier\n",
    "from sklearn.metrics import f1_score, recall_score, precision_score, accuracy_score"
   ]
  },
  {
   "cell_type": "code",
   "execution_count": 18,
   "id": "ffa46709",
   "metadata": {},
   "outputs": [
    {
     "name": "stdout",
     "output_type": "stream",
     "text": [
      "Precision-micro of OvO Classifier: 0.81\n",
      "Recall-micro of OvO Classifier: 0.81\n",
      "f1-micro of OvO Classifier: 0.81\n"
     ]
    }
   ],
   "source": [
    "OvO_clf = OneVsOneClassifier(GradientBoostingClassifier(random_state=0))\n",
    "OvO_clf.fit(X_train, Y_train)\n",
    "\n",
    "y_pred = OvO_clf.predict(X_test)\n",
    "\n",
    "print('Precision-micro of OvO Classifier: {:.2f}'.format(precision_score(Y_test, y_pred, average='micro')))\n",
    "print('Recall-micro of OvO Classifier: {:.2f}'.format(recall_score(Y_test, y_pred, average='micro')))\n",
    "print('f1-micro of OvO Classifier: {:.2f}'.format(f1_score(Y_test, y_pred, average='micro')))"
   ]
  },
  {
   "cell_type": "code",
   "execution_count": 22,
   "id": "1adc835a",
   "metadata": {},
   "outputs": [
    {
     "data": {
      "text/plain": [
       "array([0.88095238, 0.94047619, 0.8313253 , 0.79518072, 0.85542169,\n",
       "       0.80722892, 0.89156627, 0.84337349, 0.89156627, 0.86746988])"
      ]
     },
     "execution_count": 22,
     "metadata": {},
     "output_type": "execute_result"
    }
   ],
   "source": [
    "# nested cv για ΟVO\n",
    "# αργεί πολύ (15')\n",
    "# για τον συντονισμό των υπερπαραμέτρων με τους ταξινομητές OVO και OVR χρησιμοποιείται το πρόθεμα 'estimator__' για κάθε υπερπαράμετρο που ελέγχουμε\n",
    "clf=OneVsOneClassifier(GradientBoostingClassifier(random_state=6))\n",
    "inner_cv = KFold(n_splits=5, shuffle= True, random_state=1)\n",
    "outer_cv = KFold(n_splits=10, shuffle=True, random_state=1)\n",
    "space=dict()\n",
    "space['estimator__n_estimators']=[100, 200, 300]\n",
    "space['estimator__learning_rate']=[0.1, 0.5, 1]\n",
    "search = GridSearchCV(clf, space, scoring='f1_micro', n_jobs=-1, cv=inner_cv, refit=True)\n",
    "search.fit(X, Y)\n",
    "\n",
    "nested_scores=cross_val_score(search, X, Y, scoring='f1_micro', cv=outer_cv, n_jobs=-1,error_score=\"raise\")\n",
    "nested_scores"
   ]
  },
  {
   "cell_type": "code",
   "execution_count": 23,
   "id": "aa6e1c3d",
   "metadata": {},
   "outputs": [
    {
     "data": {
      "text/plain": [
       "0.8604561101549054"
      ]
     },
     "execution_count": 23,
     "metadata": {},
     "output_type": "execute_result"
    }
   ],
   "source": [
    "nested_scores.mean()"
   ]
  },
  {
   "cell_type": "code",
   "execution_count": 24,
   "id": "b2cf4eec",
   "metadata": {},
   "outputs": [
    {
     "name": "stdout",
     "output_type": "stream",
     "text": [
      "Precision-micro of OvR Classifier: 0.81\n",
      "Recall-micro of OvR Classifier: 0.81\n",
      "f1-micro of OvR Classifier: 0.81\n"
     ]
    }
   ],
   "source": [
    "from sklearn.metrics import accuracy_score\n",
    "OvR_clf = OneVsRestClassifier(GradientBoostingClassifier(random_state=0))\n",
    "OvR_clf.fit(X_train, Y_train)\n",
    "\n",
    "y_pred = OvR_clf.predict(X_test)\n",
    "\n",
    "print('Precision-micro of OvR Classifier: {:.2f}'.format(precision_score(Y_test, y_pred, average='micro')))\n",
    "print('Recall-micro of OvR Classifier: {:.2f}'.format(recall_score(Y_test, y_pred, average='micro')))\n",
    "print('f1-micro of OvR Classifier: {:.2f}'.format(f1_score(Y_test, y_pred, average='micro')))"
   ]
  },
  {
   "cell_type": "code",
   "execution_count": 25,
   "id": "fc991ef4",
   "metadata": {},
   "outputs": [
    {
     "data": {
      "text/plain": [
       "array([0.9047619 , 0.91666667, 0.84337349, 0.8313253 , 0.79518072,\n",
       "       0.8313253 , 0.86746988, 0.79518072, 0.86746988, 0.89156627])"
      ]
     },
     "execution_count": 25,
     "metadata": {},
     "output_type": "execute_result"
    }
   ],
   "source": [
    "# nested cv για ΟVR\n",
    "# αργεί πολύ (15')\n",
    "# για τον συντονισμό των υπερπαραμέτρων με τους ταξινομητές OVO και OVR χρησιμοποιείται το πρόθεμα 'estimator__' για κάθε υπερπαράμετρο που ελέγχουμε\n",
    "clf=OneVsRestClassifier(GradientBoostingClassifier(random_state=6))\n",
    "inner_cv = KFold(n_splits=5, shuffle= True, random_state=1)\n",
    "outer_cv = KFold(n_splits=10, shuffle=True, random_state=1)\n",
    "space=dict()\n",
    "space['estimator__n_estimators']=[100, 200, 300]\n",
    "space['estimator__learning_rate']=[0.1, 0.5, 1]\n",
    "search = GridSearchCV(clf, space, scoring='f1_micro', n_jobs=-1, cv=inner_cv, refit=True)\n",
    "search.fit(X, Y)\n",
    "\n",
    "nested_scores=cross_val_score(search, X, Y, scoring='f1_micro', cv=outer_cv, n_jobs=-1,error_score=\"raise\")\n",
    "nested_scores"
   ]
  },
  {
   "cell_type": "code",
   "execution_count": 26,
   "id": "704d7f98",
   "metadata": {},
   "outputs": [
    {
     "data": {
      "text/plain": [
       "0.8544320137693632"
      ]
     },
     "execution_count": 26,
     "metadata": {},
     "output_type": "execute_result"
    }
   ],
   "source": [
    "nested_scores.mean()"
   ]
  },
  {
   "cell_type": "code",
   "execution_count": 27,
   "id": "6cb7fccc",
   "metadata": {},
   "outputs": [
    {
     "data": {
      "text/html": [
       "<style>#sk-container-id-1 {color: black;background-color: white;}#sk-container-id-1 pre{padding: 0;}#sk-container-id-1 div.sk-toggleable {background-color: white;}#sk-container-id-1 label.sk-toggleable__label {cursor: pointer;display: block;width: 100%;margin-bottom: 0;padding: 0.3em;box-sizing: border-box;text-align: center;}#sk-container-id-1 label.sk-toggleable__label-arrow:before {content: \"▸\";float: left;margin-right: 0.25em;color: #696969;}#sk-container-id-1 label.sk-toggleable__label-arrow:hover:before {color: black;}#sk-container-id-1 div.sk-estimator:hover label.sk-toggleable__label-arrow:before {color: black;}#sk-container-id-1 div.sk-toggleable__content {max-height: 0;max-width: 0;overflow: hidden;text-align: left;background-color: #f0f8ff;}#sk-container-id-1 div.sk-toggleable__content pre {margin: 0.2em;color: black;border-radius: 0.25em;background-color: #f0f8ff;}#sk-container-id-1 input.sk-toggleable__control:checked~div.sk-toggleable__content {max-height: 200px;max-width: 100%;overflow: auto;}#sk-container-id-1 input.sk-toggleable__control:checked~label.sk-toggleable__label-arrow:before {content: \"▾\";}#sk-container-id-1 div.sk-estimator input.sk-toggleable__control:checked~label.sk-toggleable__label {background-color: #d4ebff;}#sk-container-id-1 div.sk-label input.sk-toggleable__control:checked~label.sk-toggleable__label {background-color: #d4ebff;}#sk-container-id-1 input.sk-hidden--visually {border: 0;clip: rect(1px 1px 1px 1px);clip: rect(1px, 1px, 1px, 1px);height: 1px;margin: -1px;overflow: hidden;padding: 0;position: absolute;width: 1px;}#sk-container-id-1 div.sk-estimator {font-family: monospace;background-color: #f0f8ff;border: 1px dotted black;border-radius: 0.25em;box-sizing: border-box;margin-bottom: 0.5em;}#sk-container-id-1 div.sk-estimator:hover {background-color: #d4ebff;}#sk-container-id-1 div.sk-parallel-item::after {content: \"\";width: 100%;border-bottom: 1px solid gray;flex-grow: 1;}#sk-container-id-1 div.sk-label:hover label.sk-toggleable__label {background-color: #d4ebff;}#sk-container-id-1 div.sk-serial::before {content: \"\";position: absolute;border-left: 1px solid gray;box-sizing: border-box;top: 0;bottom: 0;left: 50%;z-index: 0;}#sk-container-id-1 div.sk-serial {display: flex;flex-direction: column;align-items: center;background-color: white;padding-right: 0.2em;padding-left: 0.2em;position: relative;}#sk-container-id-1 div.sk-item {position: relative;z-index: 1;}#sk-container-id-1 div.sk-parallel {display: flex;align-items: stretch;justify-content: center;background-color: white;position: relative;}#sk-container-id-1 div.sk-item::before, #sk-container-id-1 div.sk-parallel-item::before {content: \"\";position: absolute;border-left: 1px solid gray;box-sizing: border-box;top: 0;bottom: 0;left: 50%;z-index: -1;}#sk-container-id-1 div.sk-parallel-item {display: flex;flex-direction: column;z-index: 1;position: relative;background-color: white;}#sk-container-id-1 div.sk-parallel-item:first-child::after {align-self: flex-end;width: 50%;}#sk-container-id-1 div.sk-parallel-item:last-child::after {align-self: flex-start;width: 50%;}#sk-container-id-1 div.sk-parallel-item:only-child::after {width: 0;}#sk-container-id-1 div.sk-dashed-wrapped {border: 1px dashed gray;margin: 0 0.4em 0.5em 0.4em;box-sizing: border-box;padding-bottom: 0.4em;background-color: white;}#sk-container-id-1 div.sk-label label {font-family: monospace;font-weight: bold;display: inline-block;line-height: 1.2em;}#sk-container-id-1 div.sk-label-container {text-align: center;}#sk-container-id-1 div.sk-container {/* jupyter's `normalize.less` sets `[hidden] { display: none; }` but bootstrap.min.css set `[hidden] { display: none !important; }` so we also need the `!important` here to be able to override the default hidden behavior on the sphinx rendered scikit-learn.org. See: https://github.com/scikit-learn/scikit-learn/issues/21755 */display: inline-block !important;position: relative;}#sk-container-id-1 div.sk-text-repr-fallback {display: none;}</style><div id=\"sk-container-id-1\" class=\"sk-top-container\"><div class=\"sk-text-repr-fallback\"><pre>OneVsRestClassifier(estimator=GradientBoostingClassifier(learning_rate=0.5,\n",
       "                                                         n_estimators=300,\n",
       "                                                         random_state=6))</pre><b>In a Jupyter environment, please rerun this cell to show the HTML representation or trust the notebook. <br />On GitHub, the HTML representation is unable to render, please try loading this page with nbviewer.org.</b></div><div class=\"sk-container\" hidden><div class=\"sk-item sk-dashed-wrapped\"><div class=\"sk-label-container\"><div class=\"sk-label sk-toggleable\"><input class=\"sk-toggleable__control sk-hidden--visually\" id=\"sk-estimator-id-1\" type=\"checkbox\" ><label for=\"sk-estimator-id-1\" class=\"sk-toggleable__label sk-toggleable__label-arrow\">OneVsRestClassifier</label><div class=\"sk-toggleable__content\"><pre>OneVsRestClassifier(estimator=GradientBoostingClassifier(learning_rate=0.5,\n",
       "                                                         n_estimators=300,\n",
       "                                                         random_state=6))</pre></div></div></div><div class=\"sk-parallel\"><div class=\"sk-parallel-item\"><div class=\"sk-item\"><div class=\"sk-label-container\"><div class=\"sk-label sk-toggleable\"><input class=\"sk-toggleable__control sk-hidden--visually\" id=\"sk-estimator-id-2\" type=\"checkbox\" ><label for=\"sk-estimator-id-2\" class=\"sk-toggleable__label sk-toggleable__label-arrow\">estimator: GradientBoostingClassifier</label><div class=\"sk-toggleable__content\"><pre>GradientBoostingClassifier(learning_rate=0.5, n_estimators=300, random_state=6)</pre></div></div></div><div class=\"sk-serial\"><div class=\"sk-item\"><div class=\"sk-estimator sk-toggleable\"><input class=\"sk-toggleable__control sk-hidden--visually\" id=\"sk-estimator-id-3\" type=\"checkbox\" ><label for=\"sk-estimator-id-3\" class=\"sk-toggleable__label sk-toggleable__label-arrow\">GradientBoostingClassifier</label><div class=\"sk-toggleable__content\"><pre>GradientBoostingClassifier(learning_rate=0.5, n_estimators=300, random_state=6)</pre></div></div></div></div></div></div></div></div></div></div>"
      ],
      "text/plain": [
       "OneVsRestClassifier(estimator=GradientBoostingClassifier(learning_rate=0.5,\n",
       "                                                         n_estimators=300,\n",
       "                                                         random_state=6))"
      ]
     },
     "execution_count": 27,
     "metadata": {},
     "output_type": "execute_result"
    }
   ],
   "source": [
    "search.best_estimator_"
   ]
  }
 ],
 "metadata": {
  "kernelspec": {
   "display_name": "Python 3 (ipykernel)",
   "language": "python",
   "name": "python3"
  },
  "language_info": {
   "codemirror_mode": {
    "name": "ipython",
    "version": 3
   },
   "file_extension": ".py",
   "mimetype": "text/x-python",
   "name": "python",
   "nbconvert_exporter": "python",
   "pygments_lexer": "ipython3",
   "version": "3.9.12"
  }
 },
 "nbformat": 4,
 "nbformat_minor": 5
}
