{
 "cells": [
  {
   "cell_type": "code",
   "execution_count": 1,
   "id": "0098142a",
   "metadata": {},
   "outputs": [],
   "source": [
    "import pandas as pd\n",
    "import numpy as np\n",
    "import matplotlib.pyplot as plt\n",
    "import seaborn as sns\n",
    "import math\n",
    "import statistics\n",
    "import scipy.stats\n",
    "from sklearn.model_selection import train_test_split"
   ]
  },
  {
   "cell_type": "code",
   "execution_count": 2,
   "id": "792bcc64",
   "metadata": {},
   "outputs": [],
   "source": [
    "# φόρτωση δεδομένων\n",
    "ded=pd.read_excel('CogTEL_new.xlsx')"
   ]
  },
  {
   "cell_type": "code",
   "execution_count": 3,
   "id": "b975184b",
   "metadata": {},
   "outputs": [],
   "source": [
    "# μετατροπή αλφαριθμητικών σε float και παράλληλα μετατροπή \"-\" σε NaN\n",
    "ded['education']=pd.to_numeric(ded['education'],errors='coerce')\n",
    "ded['GDS_6']=pd.to_numeric(ded['GDS_6'],errors='coerce')\n",
    "ded['GDS_8']=pd.to_numeric(ded['GDS_8'],errors='coerce')\n",
    "ded['GDS_9']=pd.to_numeric(ded['GDS_9'],errors='coerce')\n",
    "ded['NPIJ32F']=pd.to_numeric(ded['NPIJ32F'],errors='coerce')"
   ]
  },
  {
   "cell_type": "code",
   "execution_count": 4,
   "id": "8f731ce8",
   "metadata": {},
   "outputs": [],
   "source": [
    "# για να μπορώ να εξάγω τις συγκεκριμένες στήλες (αχρείαστο βήμα...)\n",
    "ded = ded.rename(columns={'Antidepressants ': 'Antidepressants' })\n",
    "ded = ded.rename(columns={'Concentration/attention' : 'Concentration_attention'})"
   ]
  },
  {
   "cell_type": "code",
   "execution_count": 5,
   "id": "ffe8c0a7",
   "metadata": {},
   "outputs": [],
   "source": [
    "# αφαίρεση στιγμιοτύπων με missing values\n",
    "ded=ded.dropna()"
   ]
  },
  {
   "cell_type": "code",
   "execution_count": 6,
   "id": "dd4f1ef2",
   "metadata": {},
   "outputs": [],
   "source": [
    "# αφαίρεση των παραδειγμάτων ηλικίας 50 και κάτω\n",
    "dedomena=ded[ded['Age']>49]"
   ]
  },
  {
   "cell_type": "code",
   "execution_count": 7,
   "id": "a5215fed",
   "metadata": {},
   "outputs": [],
   "source": [
    "# ανάθεση του συνόλου των ανεξάρτητων μεταβλητών και της μεταβλητής στόχου σε Χ και Υ\n",
    "X=dedomena.drop('diagnosis',axis=1)\n",
    "Y=dedomena.diagnosis"
   ]
  },
  {
   "cell_type": "code",
   "execution_count": 8,
   "id": "4f5a2621",
   "metadata": {},
   "outputs": [
    {
     "name": "stdout",
     "output_type": "stream",
     "text": [
      "Requirement already satisfied: imblearn in c:\\users\\bill\\anaconda3\\lib\\site-packages (0.0)\n",
      "Requirement already satisfied: imbalanced-learn in c:\\users\\bill\\anaconda3\\lib\\site-packages (from imblearn) (0.9.1)\n",
      "Requirement already satisfied: scikit-learn>=1.1.0 in c:\\users\\bill\\anaconda3\\lib\\site-packages (from imbalanced-learn->imblearn) (1.1.2)\n",
      "Requirement already satisfied: joblib>=1.0.0 in c:\\users\\bill\\anaconda3\\lib\\site-packages (from imbalanced-learn->imblearn) (1.1.0)\n",
      "Requirement already satisfied: numpy>=1.17.3 in c:\\users\\bill\\anaconda3\\lib\\site-packages (from imbalanced-learn->imblearn) (1.21.5)\n",
      "Requirement already satisfied: scipy>=1.3.2 in c:\\users\\bill\\anaconda3\\lib\\site-packages (from imbalanced-learn->imblearn) (1.7.3)\n",
      "Requirement already satisfied: threadpoolctl>=2.0.0 in c:\\users\\bill\\anaconda3\\lib\\site-packages (from imbalanced-learn->imblearn) (2.2.0)\n",
      "Requirement already satisfied: imbalanced-learn in c:\\users\\bill\\anaconda3\\lib\\site-packages (0.9.1)\n",
      "Requirement already satisfied: scikit-learn>=1.1.0 in c:\\users\\bill\\anaconda3\\lib\\site-packages (from imbalanced-learn) (1.1.2)\n",
      "Requirement already satisfied: numpy>=1.17.3 in c:\\users\\bill\\anaconda3\\lib\\site-packages (from imbalanced-learn) (1.21.5)\n",
      "Requirement already satisfied: joblib>=1.0.0 in c:\\users\\bill\\anaconda3\\lib\\site-packages (from imbalanced-learn) (1.1.0)\n",
      "Requirement already satisfied: scipy>=1.3.2 in c:\\users\\bill\\anaconda3\\lib\\site-packages (from imbalanced-learn) (1.7.3)\n",
      "Requirement already satisfied: threadpoolctl>=2.0.0 in c:\\users\\bill\\anaconda3\\lib\\site-packages (from imbalanced-learn) (2.2.0)\n"
     ]
    }
   ],
   "source": [
    "!pip install imblearn\n",
    "!pip install imbalanced-learn"
   ]
  },
  {
   "cell_type": "code",
   "execution_count": 9,
   "id": "0c484124",
   "metadata": {},
   "outputs": [
    {
     "name": "stdout",
     "output_type": "stream",
     "text": [
      "Class=0, n=208 (25.000%)\n",
      "Class=2, n=208 (25.000%)\n",
      "Class=1, n=208 (25.000%)\n",
      "Class=3, n=208 (25.000%)\n"
     ]
    },
    {
     "data": {
      "image/png": "[encoded data removed]",
      "text/plain": [
       "<Figure size 432x288 with 1 Axes>"
      ]
     },
     "metadata": {
      "needs_background": "light"
     },
     "output_type": "display_data"
    }
   ],
   "source": [
    "# τεχνική υπερδειγματοληψίας SMOTE \n",
    "from imblearn.over_sampling import SMOTE\n",
    "from collections import Counter\n",
    "oversample = SMOTE(random_state=7)\n",
    "X, Y = oversample.fit_resample(X, Y)\n",
    "# summarize distribution\n",
    "counter = Counter(Y)\n",
    "for k,v in counter.items():\n",
    "    per = v / len(Y) * 100\n",
    "    print('Class=%d, n=%d (%.3f%%)' % (k, v, per))\n",
    "# plot the distribution\n",
    "plt.bar(counter.keys(), counter.values())\n",
    "plt.show()\n"
   ]
  },
  {
   "cell_type": "code",
   "execution_count": 10,
   "id": "240ed290",
   "metadata": {},
   "outputs": [],
   "source": [
    "# διαχωρισμός δεδομένων σε train και test set (μέθοδος hold-out)\n",
    "X_train,X_test,Y_train,Y_test=train_test_split(X,Y,test_size=0.3,random_state=3)"
   ]
  },
  {
   "cell_type": "code",
   "execution_count": 11,
   "id": "a214d0f3",
   "metadata": {},
   "outputs": [
    {
     "name": "stdout",
     "output_type": "stream",
     "text": [
      "Requirement already satisfied: xgboost in c:\\users\\bill\\anaconda3\\lib\\site-packages (1.6.2)\n",
      "Requirement already satisfied: scipy in c:\\users\\bill\\anaconda3\\lib\\site-packages (from xgboost) (1.7.3)\n",
      "Requirement already satisfied: numpy in c:\\users\\bill\\anaconda3\\lib\\site-packages (from xgboost) (1.21.5)\n"
     ]
    }
   ],
   "source": [
    "!pip install xgboost\n",
    "import xgboost as xgb\n",
    "from sklearn.metrics import accuracy_score\n"
   ]
  },
  {
   "cell_type": "code",
   "execution_count": 12,
   "id": "15ccc066",
   "metadata": {},
   "outputs": [
    {
     "name": "stdout",
     "output_type": "stream",
     "text": [
      "Accuracy: 82.40%\n"
     ]
    }
   ],
   "source": [
    "model = xgb.XGBClassifier(random_state=45)\n",
    "model.fit(X_train, Y_train)\n",
    "# make predictions for test data\n",
    "y_pred = model.predict(X_test)\n",
    "predictions = [round(value) for value in y_pred]\n",
    "# evaluate predictions\n",
    "accuracy = accuracy_score(Y_test, predictions)\n",
    "print(\"Accuracy: %.2f%%\" % (accuracy * 100.0))"
   ]
  },
  {
   "cell_type": "code",
   "execution_count": 13,
   "id": "1026b28e",
   "metadata": {},
   "outputs": [
    {
     "data": {
      "text/plain": [
       "<bound method XGBModel.get_params of XGBClassifier(base_score=0.5, booster='gbtree', callbacks=None,\n",
       "              colsample_bylevel=1, colsample_bynode=1, colsample_bytree=1,\n",
       "              early_stopping_rounds=None, enable_categorical=False,\n",
       "              eval_metric=None, gamma=0, gpu_id=-1, grow_policy='depthwise',\n",
       "              importance_type=None, interaction_constraints='',\n",
       "              learning_rate=0.300000012, max_bin=256, max_cat_to_onehot=4,\n",
       "              max_delta_step=0, max_depth=6, max_leaves=0, min_child_weight=1,\n",
       "              missing=nan, monotone_constraints='()', n_estimators=100,\n",
       "              n_jobs=0, num_parallel_tree=1, objective='multi:softprob',\n",
       "              predictor='auto', random_state=45, reg_alpha=0, ...)>"
      ]
     },
     "execution_count": 13,
     "metadata": {},
     "output_type": "execute_result"
    }
   ],
   "source": [
    "model.get_params"
   ]
  },
  {
   "cell_type": "code",
   "execution_count": 14,
   "id": "22f8691e",
   "metadata": {},
   "outputs": [
    {
     "name": "stdout",
     "output_type": "stream",
     "text": [
      "Classification Report\n",
      "              precision    recall  f1-score   support\n",
      "\n",
      "           0       0.90      0.83      0.86        69\n",
      "           1       0.76      0.75      0.76        69\n",
      "           2       0.87      0.82      0.84        66\n",
      "           3       0.75      0.93      0.83        46\n",
      "\n",
      "    accuracy                           0.82       250\n",
      "   macro avg       0.82      0.83      0.83       250\n",
      "weighted avg       0.83      0.82      0.82       250\n",
      "\n"
     ]
    }
   ],
   "source": [
    "from sklearn.metrics import classification_report\n",
    "print(\"Classification Report\")\n",
    "print(classification_report(Y_test, predictions))"
   ]
  },
  {
   "cell_type": "code",
   "execution_count": 15,
   "id": "4d207520",
   "metadata": {},
   "outputs": [
    {
     "data": {
      "text/plain": [
       "1.0"
      ]
     },
     "execution_count": 15,
     "metadata": {},
     "output_type": "execute_result"
    }
   ],
   "source": [
    "model.score(X_train,Y_train)"
   ]
  },
  {
   "cell_type": "code",
   "execution_count": 16,
   "id": "9593b86c",
   "metadata": {},
   "outputs": [
    {
     "data": {
      "text/plain": [
       "array([0.90419162, 0.82634731, 0.85542169, 0.84939759, 0.89156627])"
      ]
     },
     "execution_count": 16,
     "metadata": {},
     "output_type": "execute_result"
    }
   ],
   "source": [
    "# Κάνουμε nested CV \n",
    "# aλλάζοντας το όρισμα scoring έχουμε τα αντίστοιχα αποτελέσματα για τις μετρικές precision_micro, recall_micro κτλ \n",
    "from sklearn.model_selection import GridSearchCV,cross_val_score,RepeatedKFold,KFold\n",
    "\n",
    "clf1=xgb.XGBClassifier(random_state=6)\n",
    "inner_cv = KFold(n_splits=3, shuffle=True, random_state=1)\n",
    "outer_cv = KFold(n_splits=5, shuffle=True, random_state=1)\n",
    "space=dict()\n",
    "space['learning_rate']=[0.1, 0.5, 0.7, 1]\n",
    "space['n_estimators']=[100, 200, 300, 400]\n",
    "search = GridSearchCV(clf1, space, scoring='recall_micro', n_jobs=-1, cv=inner_cv, refit=True)\n",
    "search.fit(X, Y)\n",
    "\n",
    "nested_scores=cross_val_score(search, X, Y, scoring='recall_micro',cv=outer_cv, n_jobs=-1)\n",
    "nested_scores"
   ]
  },
  {
   "cell_type": "code",
   "execution_count": 17,
   "id": "8d8b172b",
   "metadata": {},
   "outputs": [
    {
     "data": {
      "text/plain": [
       "0.8653848928648727"
      ]
     },
     "execution_count": 17,
     "metadata": {},
     "output_type": "execute_result"
    }
   ],
   "source": [
    "nested_scores.mean()"
   ]
  },
  {
   "cell_type": "code",
   "execution_count": 18,
   "id": "05828ecb",
   "metadata": {},
   "outputs": [
    {
     "data": {
      "text/plain": [
       "{'learning_rate': 0.1, 'n_estimators': 400}"
      ]
     },
     "execution_count": 18,
     "metadata": {},
     "output_type": "execute_result"
    }
   ],
   "source": [
    "search.best_params_"
   ]
  },
  {
   "cell_type": "markdown",
   "id": "c21e10e5",
   "metadata": {},
   "source": [
    "# OVO και ΟVR (ή OVA)"
   ]
  },
  {
   "cell_type": "code",
   "execution_count": 19,
   "id": "ce5a39bf",
   "metadata": {},
   "outputs": [],
   "source": [
    "from sklearn.multiclass import OneVsRestClassifier\n",
    "from sklearn.multiclass import OneVsOneClassifier\n",
    "from sklearn.metrics import f1_score, recall_score, precision_score, accuracy_score"
   ]
  },
  {
   "cell_type": "code",
   "execution_count": 20,
   "id": "e10e1453",
   "metadata": {},
   "outputs": [
    {
     "name": "stdout",
     "output_type": "stream",
     "text": [
      "Precision-micro of OvO Classifier: 0.80\n",
      "Recall-micro of OvO Classifier: 0.80\n",
      "f1-micro of OvO Classifier: 0.80\n"
     ]
    }
   ],
   "source": [
    "xg_clf= OneVsOneClassifier(xgb.XGBClassifier(random_state=23))\n",
    "xg_clf.fit(X_train, Y_train)\n",
    "\n",
    "y_pred = xg_clf.predict(X_test)\n",
    "\n",
    "print('Precision-micro of OvO Classifier: {:.2f}'.format(precision_score(Y_test, y_pred, average='micro')))\n",
    "print('Recall-micro of OvO Classifier: {:.2f}'.format(recall_score(Y_test, y_pred, average='micro')))\n",
    "print('f1-micro of OvO Classifier: {:.2f}'.format(f1_score(Y_test, y_pred, average='micro')))"
   ]
  },
  {
   "cell_type": "code",
   "execution_count": 21,
   "id": "083aef9d",
   "metadata": {},
   "outputs": [
    {
     "data": {
      "text/plain": [
       "array([0.91666667, 0.88095238, 0.8313253 , 0.8313253 , 0.81927711,\n",
       "       0.81927711, 0.80722892, 0.85542169, 0.86746988, 0.85542169])"
      ]
     },
     "execution_count": 21,
     "metadata": {},
     "output_type": "execute_result"
    }
   ],
   "source": [
    "# nested cv για ΟVO\n",
    "# aργεί πολύ\n",
    "# για τον συντονισμό των υπερπαραμέτρων με τους ταξινομητές OVO και OVR χρησιμοποιείται το πρόθεμα 'estimator__' για κάθε υπερπαράμετρο που ελέγχουμε\n",
    "clf=OneVsOneClassifier(xgb.XGBClassifier(random_state=6))\n",
    "inner_cv = KFold(n_splits=5, shuffle= True, random_state=1)\n",
    "outer_cv = KFold(n_splits=10, shuffle=True, random_state=1)\n",
    "space=dict()\n",
    "space['estimator__learning_rate']=[0.1, 0.3, 1]\n",
    "space['estimator__n_estimators']=[100, 200, 300, 500]\n",
    "search = GridSearchCV(clf, space, scoring='f1_micro', n_jobs=-1, cv=inner_cv, refit=True)\n",
    "search.fit(X, Y)\n",
    "\n",
    "nested_scores=cross_val_score(search, X, Y, scoring='f1_micro', cv=outer_cv, n_jobs=-1,error_score=\"raise\")\n",
    "nested_scores"
   ]
  },
  {
   "cell_type": "code",
   "execution_count": 22,
   "id": "a7e22a4e",
   "metadata": {},
   "outputs": [
    {
     "data": {
      "text/plain": [
       "0.8484366035570854"
      ]
     },
     "execution_count": 22,
     "metadata": {},
     "output_type": "execute_result"
    }
   ],
   "source": [
    "nested_scores.mean()"
   ]
  },
  {
   "cell_type": "code",
   "execution_count": 23,
   "id": "b73feddf",
   "metadata": {},
   "outputs": [
    {
     "name": "stdout",
     "output_type": "stream",
     "text": [
      "Precision-micro of OvR Classifier: 0.82\n",
      "Recall-micro of OvR Classifier: 0.82\n",
      "f1-micro of OvR Classifier: 0.82\n"
     ]
    }
   ],
   "source": [
    "xg_clf = OneVsRestClassifier(xgb.XGBClassifier(random_state=9))\n",
    "xg_clf.fit(X_train, Y_train)\n",
    "\n",
    "y_pred = xg_clf.predict(X_test)\n",
    "\n",
    "print('Precision-micro of OvR Classifier: {:.2f}'.format(precision_score(Y_test, y_pred, average='micro')))\n",
    "print('Recall-micro of OvR Classifier: {:.2f}'.format(recall_score(Y_test, y_pred, average='micro')))\n",
    "print('f1-micro of OvR Classifier: {:.2f}'.format(f1_score(Y_test, y_pred, average='micro')))"
   ]
  },
  {
   "cell_type": "code",
   "execution_count": 24,
   "id": "a71cd570",
   "metadata": {},
   "outputs": [
    {
     "data": {
      "text/plain": [
       "array([0.91666667, 0.88095238, 0.8313253 , 0.8313253 , 0.81927711,\n",
       "       0.81927711, 0.80722892, 0.85542169, 0.86746988, 0.85542169])"
      ]
     },
     "execution_count": 24,
     "metadata": {},
     "output_type": "execute_result"
    }
   ],
   "source": [
    "# nested cv για ΟVR\n",
    "# aργεί πολύ\n",
    "# για τον συντονισμό των υπερπαραμέτρων με τους ταξινομητές OVO και OVR χρησιμοποιείται το πρόθεμα 'estimator__' για κάθε υπερπαράμετρο που ελέγχουμε\n",
    "clf=OneVsOneClassifier(xgb.XGBClassifier(random_state=6))\n",
    "inner_cv = KFold(n_splits=5, shuffle= True, random_state=1)\n",
    "outer_cv = KFold(n_splits=10, shuffle=True, random_state=1)\n",
    "space=dict()\n",
    "space['estimator__learning_rate']=[0.1, 0.3, 1]\n",
    "space['estimator__n_estimators']=[100, 200, 300, 500]\n",
    "search = GridSearchCV(clf, space, scoring='f1_micro', n_jobs=-1, cv=inner_cv, refit=True)\n",
    "search.fit(X, Y)\n",
    "\n",
    "nested_scores=cross_val_score(search, X, Y, scoring='f1_micro', cv=outer_cv, n_jobs=-1,error_score=\"raise\")\n",
    "nested_scores"
   ]
  },
  {
   "cell_type": "code",
   "execution_count": 25,
   "id": "0887ad3e",
   "metadata": {},
   "outputs": [
    {
     "data": {
      "text/plain": [
       "0.8484366035570854"
      ]
     },
     "execution_count": 25,
     "metadata": {},
     "output_type": "execute_result"
    }
   ],
   "source": [
    "nested_scores.mean()"
   ]
  },
  {
   "cell_type": "code",
   "execution_count": 26,
   "id": "15c66be7",
   "metadata": {},
   "outputs": [
    {
     "data": {
      "text/plain": [
       "[XGBClassifier(base_score=0.5, booster='gbtree', callbacks=None,\n",
       "               colsample_bylevel=1, colsample_bynode=1, colsample_bytree=1,\n",
       "               early_stopping_rounds=None, enable_categorical=False,\n",
       "               eval_metric=None, gamma=0, gpu_id=-1, grow_policy='depthwise',\n",
       "               importance_type=None, interaction_constraints='',\n",
       "               learning_rate=0.300000012, max_bin=256, max_cat_to_onehot=4,\n",
       "               max_delta_step=0, max_depth=6, max_leaves=0, min_child_weight=1,\n",
       "               missing=nan, monotone_constraints='()', n_estimators=100,\n",
       "               n_jobs=0, num_parallel_tree=1, predictor='auto', random_state=9,\n",
       "               reg_alpha=0, reg_lambda=1, ...),\n",
       " XGBClassifier(base_score=0.5, booster='gbtree', callbacks=None,\n",
       "               colsample_bylevel=1, colsample_bynode=1, colsample_bytree=1,\n",
       "               early_stopping_rounds=None, enable_categorical=False,\n",
       "               eval_metric=None, gamma=0, gpu_id=-1, grow_policy='depthwise',\n",
       "               importance_type=None, interaction_constraints='',\n",
       "               learning_rate=0.300000012, max_bin=256, max_cat_to_onehot=4,\n",
       "               max_delta_step=0, max_depth=6, max_leaves=0, min_child_weight=1,\n",
       "               missing=nan, monotone_constraints='()', n_estimators=100,\n",
       "               n_jobs=0, num_parallel_tree=1, predictor='auto', random_state=9,\n",
       "               reg_alpha=0, reg_lambda=1, ...),\n",
       " XGBClassifier(base_score=0.5, booster='gbtree', callbacks=None,\n",
       "               colsample_bylevel=1, colsample_bynode=1, colsample_bytree=1,\n",
       "               early_stopping_rounds=None, enable_categorical=False,\n",
       "               eval_metric=None, gamma=0, gpu_id=-1, grow_policy='depthwise',\n",
       "               importance_type=None, interaction_constraints='',\n",
       "               learning_rate=0.300000012, max_bin=256, max_cat_to_onehot=4,\n",
       "               max_delta_step=0, max_depth=6, max_leaves=0, min_child_weight=1,\n",
       "               missing=nan, monotone_constraints='()', n_estimators=100,\n",
       "               n_jobs=0, num_parallel_tree=1, predictor='auto', random_state=9,\n",
       "               reg_alpha=0, reg_lambda=1, ...),\n",
       " XGBClassifier(base_score=0.5, booster='gbtree', callbacks=None,\n",
       "               colsample_bylevel=1, colsample_bynode=1, colsample_bytree=1,\n",
       "               early_stopping_rounds=None, enable_categorical=False,\n",
       "               eval_metric=None, gamma=0, gpu_id=-1, grow_policy='depthwise',\n",
       "               importance_type=None, interaction_constraints='',\n",
       "               learning_rate=0.300000012, max_bin=256, max_cat_to_onehot=4,\n",
       "               max_delta_step=0, max_depth=6, max_leaves=0, min_child_weight=1,\n",
       "               missing=nan, monotone_constraints='()', n_estimators=100,\n",
       "               n_jobs=0, num_parallel_tree=1, predictor='auto', random_state=9,\n",
       "               reg_alpha=0, reg_lambda=1, ...)]"
      ]
     },
     "execution_count": 26,
     "metadata": {},
     "output_type": "execute_result"
    }
   ],
   "source": [
    "xg_clf.estimators_"
   ]
  },
  {
   "cell_type": "code",
   "execution_count": 27,
   "id": "ef3883b1",
   "metadata": {},
   "outputs": [
    {
     "data": {
      "text/plain": [
       "array([0, 1, 2, 3], dtype=int64)"
      ]
     },
     "execution_count": 27,
     "metadata": {},
     "output_type": "execute_result"
    }
   ],
   "source": [
    "xg_clf.classes_\n"
   ]
  }
 ],
 "metadata": {
  "kernelspec": {
   "display_name": "Python 3 (ipykernel)",
   "language": "python",
   "name": "python3"
  },
  "language_info": {
   "codemirror_mode": {
    "name": "ipython",
    "version": 3
   },
   "file_extension": ".py",
   "mimetype": "text/x-python",
   "name": "python",
   "nbconvert_exporter": "python",
   "pygments_lexer": "ipython3",
   "version": "3.9.12"
  }
 },
 "nbformat": 4,
 "nbformat_minor": 5
}
